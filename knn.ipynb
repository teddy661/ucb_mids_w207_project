{
 "cells": [
  {
   "cell_type": "markdown",
   "metadata": {},
   "source": [
    "## Baseline Model: KNN on face keypoints dataset"
   ]
  },
  {
   "cell_type": "code",
   "execution_count": 1,
   "metadata": {},
   "outputs": [],
   "source": [
    "import sys\n",
    "import random\n",
    "import numpy as np\n",
    "import matplotlib.pyplot as plt\n",
    "import pandas as pd\n",
    "import seaborn as sns  # for nicer plots\n",
    "\n",
    "sns.set(style=\"darkgrid\")  # default style\n",
    "\n",
    "from PIL import Image\n",
    "from classifier.data_loader import load_data\n",
    "from classifier.k_nearest_neighbor import KNearestNeighbor\n",
    "from sklearn.metrics import mean_squared_error\n"
   ]
  },
  {
   "cell_type": "code",
   "execution_count": 2,
   "metadata": {},
   "outputs": [
    {
     "name": "stdout",
     "output_type": "stream",
     "text": [
      "Image array shape: (7049, 96, 96), Label array shape: (7049, 30)\n",
      "Image array shape: (1783, 96, 96)\n",
      "X_train shape: (5639, 96, 96)\n",
      "y_train shape: (5639, 30)\n",
      "X_val shape: (1410, 96, 96)\n",
      "y_val shape: (1410, 30)\n",
      "X_test shape: (1783, 96, 96)\n"
     ]
    }
   ],
   "source": [
    "# Load the data\n",
    "\n",
    "X_train, X_val, y_train, y_val, X_test = load_data()\n",
    "\n",
    "print(f\"X_train shape: {X_train.shape}\")\n",
    "print(f\"y_train shape: {y_train.shape}\")\n",
    "print(f\"X_val shape: {X_val.shape}\")\n",
    "print(f\"y_val shape: {y_val.shape}\")\n",
    "print(f\"X_test shape: {X_test.shape}\")\n"
   ]
  },
  {
   "cell_type": "code",
   "execution_count": 3,
   "metadata": {},
   "outputs": [
    {
     "name": "stdout",
     "output_type": "stream",
     "text": [
      "(5639, 9216) (1410, 9216) (1783, 9216)\n"
     ]
    }
   ],
   "source": [
    "# reshape the data to 2D\n",
    "\n",
    "X_train = np.reshape(X_train, (X_train.shape[0], -1))\n",
    "X_val = np.reshape(X_val, (X_val.shape[0], -1))\n",
    "X_test = np.reshape(X_test, (X_test.shape[0], -1))\n",
    "\n",
    "print(X_train.shape, X_val.shape, X_test.shape)"
   ]
  },
  {
   "cell_type": "code",
   "execution_count": 4,
   "metadata": {},
   "outputs": [
    {
     "name": "stdout",
     "output_type": "stream",
     "text": [
      "(5639, 2) (1410, 2)\n"
     ]
    }
   ],
   "source": [
    "# trian a knn classifier with only nose location\n",
    "knn_nose = KNearestNeighbor()\n",
    "#nose is the 20 and 21 index\n",
    "y_train_nose = y_train[:, 20:22]\n",
    "y_val_nose = y_val[:, 20:22]\n",
    "\n",
    "print(y_train_nose.shape, y_val_nose.shape)\n"
   ]
  },
  {
   "cell_type": "code",
   "execution_count": 5,
   "metadata": {},
   "outputs": [
    {
     "name": "stderr",
     "output_type": "stream",
     "text": [
      "/home/rcao/repos_linux/ucb_mids_w207_project/classifier/k_nearest_neighbor.py:69: RuntimeWarning: invalid value encountered in sqrt\n",
      "  dists = np.sqrt(squared_sum)\n"
     ]
    },
    {
     "name": "stdout",
     "output_type": "stream",
     "text": [
      "k: 1, rmse: 4.7549\n"
     ]
    },
    {
     "name": "stderr",
     "output_type": "stream",
     "text": [
      "/home/rcao/repos_linux/ucb_mids_w207_project/classifier/k_nearest_neighbor.py:69: RuntimeWarning: invalid value encountered in sqrt\n",
      "  dists = np.sqrt(squared_sum)\n"
     ]
    },
    {
     "name": "stdout",
     "output_type": "stream",
     "text": [
      "k: 3, rmse: 4.2975\n"
     ]
    },
    {
     "name": "stderr",
     "output_type": "stream",
     "text": [
      "/home/rcao/repos_linux/ucb_mids_w207_project/classifier/k_nearest_neighbor.py:69: RuntimeWarning: invalid value encountered in sqrt\n",
      "  dists = np.sqrt(squared_sum)\n"
     ]
    },
    {
     "name": "stdout",
     "output_type": "stream",
     "text": [
      "k: 5, rmse: 4.2095\n"
     ]
    },
    {
     "name": "stderr",
     "output_type": "stream",
     "text": [
      "/home/rcao/repos_linux/ucb_mids_w207_project/classifier/k_nearest_neighbor.py:69: RuntimeWarning: invalid value encountered in sqrt\n",
      "  dists = np.sqrt(squared_sum)\n"
     ]
    },
    {
     "name": "stdout",
     "output_type": "stream",
     "text": [
      "k: 10, rmse: 4.1999\n"
     ]
    },
    {
     "name": "stderr",
     "output_type": "stream",
     "text": [
      "/home/rcao/repos_linux/ucb_mids_w207_project/classifier/k_nearest_neighbor.py:69: RuntimeWarning: invalid value encountered in sqrt\n",
      "  dists = np.sqrt(squared_sum)\n"
     ]
    },
    {
     "name": "stdout",
     "output_type": "stream",
     "text": [
      "k: 20, rmse: 4.2668\n",
      "k: 50, rmse: 4.4667\n"
     ]
    },
    {
     "name": "stderr",
     "output_type": "stream",
     "text": [
      "/home/rcao/repos_linux/ucb_mids_w207_project/classifier/k_nearest_neighbor.py:69: RuntimeWarning: invalid value encountered in sqrt\n",
      "  dists = np.sqrt(squared_sum)\n"
     ]
    }
   ],
   "source": [
    "# TODO: do it with \"high level\" model\n",
    "\n",
    "knn_nose.train(X_train, y_train_nose)\n",
    "losses = []\n",
    "\n",
    "for k in [1, 3, 5, 10, 20, 50]:\n",
    "    y_pred_nose = knn_nose.predict(X_val, k=k)\n",
    "    rmse = mean_squared_error(y_val_nose, y_pred_nose, squared=False)\n",
    "    print(f\"k: {k}, rmse: {rmse:.4f}\")"
   ]
  },
  {
   "cell_type": "markdown",
   "metadata": {},
   "source": [
    "The interpretation is on average, the model is off by 6 pixels in the x direction and 6 pixels in the y direction. Considering the range of the data is 0 to 96, this is a pretty good result."
   ]
  },
  {
   "cell_type": "code",
   "execution_count": 6,
   "metadata": {},
   "outputs": [
    {
     "name": "stdout",
     "output_type": "stream",
     "text": [
      "(1734, 9216) (1734, 30) (406, 9216) (406, 30)\n"
     ]
    }
   ],
   "source": [
    "# predicting all the points\n",
    "\n",
    "# TODO: right now we have to drop all the data that have missing keypoints, but we should not need to do so?\n",
    "def get_clean_data(X, y):\n",
    "    clean = ~np.isnan(y).any(axis=1)\n",
    "    return X[clean, :], y[clean, :]\n",
    "\n",
    "X_train_clean, y_train_clean = get_clean_data(X_train, y_train)\n",
    "X_val_clean, y_val_clean = get_clean_data(X_val, y_val)\n",
    "print(X_train_clean.shape, y_train_clean.shape, X_val_clean.shape, y_val_clean.shape)"
   ]
  },
  {
   "cell_type": "code",
   "execution_count": 7,
   "metadata": {},
   "outputs": [
    {
     "name": "stdout",
     "output_type": "stream",
     "text": [
      "k: 1, rmse: 2.7053\n",
      "k: 3, rmse: 2.4136\n",
      "k: 5, rmse: 2.3887\n",
      "k: 10, rmse: 2.3839\n",
      "k: 20, rmse: 2.4683\n",
      "k: 50, rmse: 2.6163\n"
     ]
    }
   ],
   "source": [
    "# trian a knn classifier with all the points\n",
    "knn = KNearestNeighbor()\n",
    "knn.train(X_train_clean, y_train_clean)\n",
    "losses = []\n",
    "\n",
    "for k in [1, 3, 5, 10, 20, 50]:\n",
    "    y_pred = knn.predict(X_val_clean, k=k)\n",
    "    rmse = mean_squared_error(y_val_clean, y_pred, squared=False)\n",
    "    print(f\"k: {k}, rmse: {rmse:.4f}\")"
   ]
  },
  {
   "cell_type": "code",
   "execution_count": null,
   "metadata": {},
   "outputs": [],
   "source": []
  }
 ],
 "metadata": {
  "kernelspec": {
   "display_name": "Python 3.9.13 ('tf')",
   "language": "python",
   "name": "python3"
  },
  "language_info": {
   "codemirror_mode": {
    "name": "ipython",
    "version": 3
   },
   "file_extension": ".py",
   "mimetype": "text/x-python",
   "name": "python",
   "nbconvert_exporter": "python",
   "pygments_lexer": "ipython3",
   "version": "3.9.13"
  },
  "orig_nbformat": 4,
  "vscode": {
   "interpreter": {
    "hash": "665d0d8289d3fc5390064a220536393676f627629b1afb878b352099f2b40d1b"
   }
  }
 },
 "nbformat": 4,
 "nbformat_minor": 2
}
